{
 "cells": [
  {
   "cell_type": "markdown",
   "metadata": {},
   "source": [
    "Los modelos ingenuos de Bayes son un grupo de algoritmos de clasificación extremadamente rápidos y simples que a menudo son adecuados para conjuntos de datos de muy alta dimensión.\n",
    "Debido a que son tan rápidos y tienen tan pocos parámetros ajustables, terminan siendo muy útiles como una línea de base rápida y sucia para un problema de clasificación.\n",
    "Esta sección se centrará en una explicación intuitiva de cómo funcionan los clasificadores ingenuos de Bayes, seguidos de un par de ejemplos de ellos en acción en algunos conjuntos de datos."
   ]
  },
  {
   "cell_type": "markdown",
   "metadata": {},
   "source": [
    "## Clasificación Bayesiana\n",
    "\n",
    "Los clasificadores ingenuos de Bayes se basan en métodos de clasificación bayesianos.\n",
    "Estos se basan en el teorema de Bayes, que es una ecuación que describe la relación de las probabilidades condicionales de las cantidades estadísticas.\n",
    "En la clasificación bayesiana, estamos interesados en encontrar la probabilidad de una etiqueta dadas algunas características observadas, que podemos escribir como $ P (L ~ | ~ {\\rm features}) $.\n",
    "El teorema de Bayes nos dice cómo expresar esto en términos de cantidades que podemos calcular más directamente:\n",
    "\n",
    "$$\n",
    "P (L ~ | ~ {\\rm features}) = \\frac {P ({\\rm features} ~ | ~ L) P (L)} {P ({\\rm features})}\n",
    "$$\n",
    "\n",
    "Si estamos tratando de decidir entre dos etiquetas, llamémoslas $ L_1 $ y $ L_2 $, entonces una forma de tomar esta decisión es calcular la razón de las probabilidades posteriores para cada etiqueta:\n",
    "\n",
    "$$\n",
    "\\frac {P (L_1 ~ | ~ {\\rm features})} {P (L_2 ~ | ~ {\\rm features})} = \\frac {P ({\\rm features} ~ | ~ L_1)} {P ( {\\rm características} ~ | ~ L_2)} \\frac {P (L_1)} {P (L_2)}\n",
    "$$\n",
    "\n",
    "Todo lo que necesitamos ahora es algún modelo mediante el cual podamos calcular $ P ({\\rm features} ~ | ~ L_i) $ para cada etiqueta.\n",
    "Tal modelo se llama * modelo generativo * porque especifica el hipotético proceso aleatorio que genera los datos.\n",
    "La especificación de este modelo generativo para cada etiqueta es la pieza principal del entrenamiento de un clasificador bayesiano.\n",
    "La versión general de tal paso de capacitación es una tarea muy difícil, pero podemos simplificarla mediante el uso de algunos supuestos simplificadores sobre la forma de este modelo.\n",
    "\n",
    "Aquí es donde entra lo \"ingenuo\" en \"ingenuo Bayes\": si hacemos suposiciones muy ingenuas sobre el modelo generativo para cada etiqueta, podemos encontrar una aproximación aproximada del modelo generativo para cada clase, y luego proceder con la clasificación bayesiana .\n",
    "Los diferentes tipos de clasificadores ingenuos de Bayes se basan en diferentes suposiciones ingenuas sobre los datos, y examinaremos algunos de estos en las siguientes secciones.\n",
    "\n",
    "Comenzamos con las importaciones estándar:"
   ]
  },
  {
   "cell_type": "code",
   "execution_count": 2,
   "metadata": {},
   "outputs": [],
   "source": [
    "%matplotlib inline\n",
    "import numpy as np\n",
    "import matplotlib.pyplot as plt\n",
    "import seaborn as sns; sns.set()"
   ]
  },
  {
   "cell_type": "markdown",
   "metadata": {},
   "source": [
    "## Bayes ingenuos gaussianos\n",
    "\n",
    "Quizás el clasificador Bayes ingenuo más fácil de entender es el Bayes ingenuo gaussiano.\n",
    "En este clasificador, la suposición es que *los datos de cada etiqueta se extraen de una distribución gaussiana simple*.\n",
    "Imagine que tiene los siguientes datos:"
   ]
  },
  {
   "cell_type": "code",
   "execution_count": 4,
   "metadata": {},
   "outputs": [
    {
     "data": {
      "image/png": "[encoded data removed]",
      "text/plain": [
       "<Figure size 432x288 with 1 Axes>"
      ]
     },
     "metadata": {},
     "output_type": "display_data"
    }
   ],
   "source": [
    "from sklearn.datasets import make_blobs\n",
    "X, y = make_blobs(100, 2, centers=2, random_state=2, cluster_std=1.5)\n",
    "plt.scatter(X[:, 0], X[:, 1], c=y, s=50, cmap='RdBu');"
   ]
  },
  {
   "cell_type": "markdown",
   "metadata": {},
   "source": [
    "Una forma extremadamente rápida de crear un modelo simple es asumir que los datos se describen mediante una distribución gaussiana sin covarianza entre dimensiones.\n",
    "Este modelo puede ajustarse simplemente encontrando la media y la desviación estándar de los puntos dentro de cada etiqueta, que es todo lo que necesita para definir dicha distribución.\n",
    "El resultado de esta ingenua suposición gaussiana se muestra en la siguiente figura:"
   ]
  },
  {
   "cell_type": "markdown",
   "metadata": {},
   "source": [
    "![(run code in Appendix to generate image)](figures/05.05-gaussian-NB.png)\n",
    "[figure source in Appendix](06.00-Figure-Code.ipynb#Gaussian-Naive-Bayes)"
   ]
  },
  {
   "cell_type": "markdown",
   "metadata": {},
   "source": [
    "Las elipses aquí representan el modelo generativo gaussiano para cada etiqueta, con mayor probabilidad hacia el centro de las elipses.\n",
    "Con este modelo generativo para cada clase, tenemos una receta simple para calcular la probabilidad $ P ({\\rm features} ~ | ~ L_1) $ para cualquier punto de datos, y así podemos calcular rápidamente la relación posterior y determinar qué La etiqueta es la más probable para un punto dado.\n",
    "\n",
    "Este procedimiento se implementa en el estimador `` sklearn.naive_bayes.GaussianNB`` de Scikit-Learn:"
   ]
  },
  {
   "cell_type": "code",
   "execution_count": 7,
   "metadata": {},
   "outputs": [],
   "source": [
    "from sklearn.naive_bayes import GaussianNB\n",
    "model = GaussianNB()\n",
    "model.fit(X, y);"
   ]
  },
  {
   "cell_type": "markdown",
   "metadata": {},
   "source": [
    "Ahora podemos trazar estos nuevos datos para tener una idea de dónde está el límite de decisión:"
   ]
  },
  {
   "cell_type": "code",
   "execution_count": 8,
   "metadata": {},
   "outputs": [],
   "source": [
    "rng = np.random.RandomState(0)\n",
    "Xnew = [-6, -14] + [14, 18] * rng.rand(2000, 2)\n",
    "ynew = model.predict(Xnew)"
   ]
  },
  {
   "cell_type": "markdown",
   "metadata": {},
   "source": [
    "Vemos un límite ligeramente curvado en las clasificaciones; en general, el límite en Bayes ingenuo gaussiano es cuadrático.\n",
    "\n",
    "Una buena parte de este formalismo bayesiano es que, naturalmente, permite la clasificación probabilística, que podemos calcular utilizando el método `` predic_proba``:"
   ]
  },
  {
   "cell_type": "code",
   "execution_count": 9,
   "metadata": {},
   "outputs": [
    {
     "data": {
      "text/plain": [
       "array([[0.89, 0.11],\n",
       "       [1.  , 0.  ],\n",
       "       [1.  , 0.  ],\n",
       "       [1.  , 0.  ],\n",
       "       [1.  , 0.  ],\n",
       "       [1.  , 0.  ],\n",
       "       [0.  , 1.  ],\n",
       "       [0.15, 0.85]])"
      ]
     },
     "execution_count": 9,
     "metadata": {},
     "output_type": "execute_result"
    }
   ],
   "source": [
    "yprob = model.predict_proba(Xnew)\n",
    "yprob[-8:].round(2)"
   ]
  },
  {
   "cell_type": "markdown",
   "metadata": {},
   "source": [
    "Las columnas dan las probabilidades posteriores de la primera y segunda etiqueta, respectivamente.\n",
    "Si está buscando estimaciones de incertidumbre en su clasificación, los enfoques bayesianos como este pueden ser un enfoque útil.\n",
    "\n",
    "Por supuesto, la clasificación final solo será tan buena como los supuestos del modelo que la conducen, por lo que Bayes ingenuo gaussiano a menudo no produce muy buenos resultados.\n",
    "Aún así, en muchos casos, especialmente a medida que aumenta el número de características, esta suposición no es lo suficientemente perjudicial como para evitar que Bayes ingenuo gaussiano sea un método útil."
   ]
  },
  {
   "cell_type": "markdown",
   "metadata": {},
   "source": [
    "## Bayes ingenuo multinomial\n",
    "\n",
    "La suposición gaussiana que se acaba de describir no es la única suposición simple que podría usarse para especificar la distribución generativa de cada etiqueta.\n",
    "Otro ejemplo útil es Bayes ingenuo multinomial, donde se supone que las características se generan a partir de una distribución multinomial simple.\n",
    "La distribución multinomial describe la probabilidad de observar recuentos entre varias categorías y, por lo tanto, Bayes ingenuo multinomial es más apropiado para las características que representan recuentos o tasas de recuento.\n",
    "\n",
    "La idea es exactamente la misma que antes, excepto que en lugar de modelar la distribución de datos con el gaussiano de mejor ajuste, modelamos la distribución de datos con una distribución multinomial de mejor ajuste."
   ]
  },
  {
   "cell_type": "markdown",
   "metadata": {},
   "source": [
    "### Ejemplo: clasificación de texto\n",
    "\n",
    "Un lugar donde a menudo se usa Bayes ingenuo multinomial es en la clasificación de texto, donde las características están relacionadas con el recuento de palabras o las frecuencias dentro de los documentos que se clasificarán.\n",
    "Discutimos la extracción de tales características del texto en [Feature Engineering] (05.04-Feature-Engineering.ipynb); Aquí utilizaremos las funciones de recuento de palabras dispersas del corpus de 20 grupos de noticias para mostrar cómo podemos clasificar estos documentos cortos en categorías.\n",
    "\n",
    "\n",
    "Descarguemos los datos y echemos un vistazo a los nombres de destino:"
   ]
  },
  {
   "cell_type": "code",
   "execution_count": 10,
   "metadata": {},
   "outputs": [
    {
     "data": {
      "text/plain": [
       "['alt.atheism',\n",
       " 'comp.graphics',\n",
       " 'comp.os.ms-windows.misc',\n",
       " 'comp.sys.ibm.pc.hardware',\n",
       " 'comp.sys.mac.hardware',\n",
       " 'comp.windows.x',\n",
       " 'misc.forsale',\n",
       " 'rec.autos',\n",
       " 'rec.motorcycles',\n",
       " 'rec.sport.baseball',\n",
       " 'rec.sport.hockey',\n",
       " 'sci.crypt',\n",
       " 'sci.electronics',\n",
       " 'sci.med',\n",
       " 'sci.space',\n",
       " 'soc.religion.christian',\n",
       " 'talk.politics.guns',\n",
       " 'talk.politics.mideast',\n",
       " 'talk.politics.misc',\n",
       " 'talk.religion.misc']"
      ]
     },
     "execution_count": 10,
     "metadata": {},
     "output_type": "execute_result"
    }
   ],
   "source": [
    "from sklearn.datasets import fetch_20newsgroups\n",
    "\n",
    "data = fetch_20newsgroups()\n",
    "data.target_names"
   ]
  },
  {
   "cell_type": "markdown",
   "metadata": {},
   "source": [
    "Para simplificar aquí, seleccionaremos solo algunas de estas categorías y descargaremos el conjunto de capacitación y pruebas:  "
   ]
  },
  {
   "cell_type": "code",
   "execution_count": 11,
   "metadata": {},
   "outputs": [],
   "source": [
    "categories = ['talk.religion.misc', 'soc.religion.christian',\n",
    "              'sci.space', 'comp.graphics']\n",
    "train = fetch_20newsgroups(subset='train', categories=categories)\n",
    "test = fetch_20newsgroups(subset='test', categories=categories)"
   ]
  },
  {
   "cell_type": "markdown",
   "metadata": {},
   "source": [
    "Aquí hay una entrada representativa de los datos:"
   ]
  },
  {
   "cell_type": "code",
   "execution_count": 15,
   "metadata": {},
   "outputs": [
    {
     "name": "stdout",
     "output_type": "stream",
     "text": [
      "From: dmcgee@uluhe.soest.hawaii.edu (Don McGee)\n",
      "Subject: Federal Hearing\n",
      "Originator: dmcgee@uluhe\n",
      "Organization: School of Ocean and Earth Science and Technology\n",
      "Distribution: usa\n",
      "Lines: 10\n",
      "\n",
      "\n",
      "Fact or rumor....?  Madalyn Murray O'Hare an atheist who eliminated the\n",
      "use of the bible reading and prayer in public schools 15 years ago is now\n",
      "going to appear before the FCC with a petition to stop the reading of the\n",
      "Gospel on the airways of America.  And she is also campaigning to remove\n",
      "Christmas programs, songs, etc from the public schools.  If it is true\n",
      "then mail to Federal Communications Commission 1919 H Street Washington DC\n",
      "20054 expressing your opposition to her request.  Reference Petition number\n",
      "\n",
      "2493.\n",
      "\n"
     ]
    }
   ],
   "source": [
    "print(train.data[5])"
   ]
  },
  {
   "cell_type": "markdown",
   "metadata": {},
   "source": [
    "Para utilizar estos datos para el aprendizaje automático, necesitamos poder convertir el contenido de cada cadena en un vector de números.\n",
    "Para esto, utilizaremos el vectorizador TF-IDF."
   ]
  },
  {
   "cell_type": "code",
   "execution_count": null,
   "metadata": {},
   "outputs": [],
   "source": []
  },
  {
   "cell_type": "markdown",
   "metadata": {},
   "source": [
    "###  Ejemplo: clasificación de texto\n",
    "Otra necesidad común en la ingeniería de características es convertir texto a un conjunto de valores numéricos representativos. Por ejemplo, la mayoría de la extracción automática de datos de redes sociales se basa en alguna forma de codificar el texto como números. Uno de los métodos más simples para codificar datos es por recuento de palabras: toma cada fragmento de texto, cuenta las apariciones de cada palabra dentro de él y coloca los resultados en una tabla.\n",
    "\n",
    "Por ejemplo, considere el siguiente conjunto de tres frases:"
   ]
  },
  {
   "cell_type": "code",
   "execution_count": 20,
   "metadata": {},
   "outputs": [],
   "source": [
    "sample = ['problem of evil',\n",
    "          'evil queen',\n",
    "          'horizon problem']"
   ]
  },
  {
   "cell_type": "markdown",
   "metadata": {},
   "source": [
    "Para una vectorización de estos datos basada en el recuento de palabras, podríamos construir una columna que represente la palabra \"problema\", la palabra \"maldad\", la palabra \"horizonte\", y así sucesivamente. Si bien esto sería posible a mano, se puede evitar el tedio utilizando el CountVectorizer de Scikit-Learn:"
   ]
  },
  {
   "cell_type": "code",
   "execution_count": 21,
   "metadata": {},
   "outputs": [
    {
     "data": {
      "text/plain": [
       "<3x5 sparse matrix of type '<class 'numpy.int64'>'\n",
       "\twith 7 stored elements in Compressed Sparse Row format>"
      ]
     },
     "execution_count": 21,
     "metadata": {},
     "output_type": "execute_result"
    }
   ],
   "source": [
    "from sklearn.feature_extraction.text import CountVectorizer\n",
    "vec = CountVectorizer()\n",
    "X = vec.fit_transform(sample)\n",
    "X"
   ]
  },
  {
   "cell_type": "markdown",
   "metadata": {},
   "source": [
    "El resultado es una matriz dispersa que registra el número de veces que aparece cada palabra; es más fácil inspeccionar si convertimos esto a un DataFrame con columnas etiquetadas:"
   ]
  },
  {
   "cell_type": "code",
   "execution_count": 19,
   "metadata": {},
   "outputs": [
    {
     "data": {
      "text/html": [
       "<div>\n",
       "<style scoped>\n",
       "    .dataframe tbody tr th:only-of-type {\n",
       "        vertical-align: middle;\n",
       "    }\n",
       "\n",
       "    .dataframe tbody tr th {\n",
       "        vertical-align: top;\n",
       "    }\n",
       "\n",
       "    .dataframe thead th {\n",
       "        text-align: right;\n",
       "    }\n",
       "</style>\n",
       "<table border=\"1\" class=\"dataframe\">\n",
       "  <thead>\n",
       "    <tr style=\"text-align: right;\">\n",
       "      <th></th>\n",
       "      <th>evil</th>\n",
       "      <th>horizon</th>\n",
       "      <th>of</th>\n",
       "      <th>problem</th>\n",
       "      <th>queen</th>\n",
       "    </tr>\n",
       "  </thead>\n",
       "  <tbody>\n",
       "    <tr>\n",
       "      <th>0</th>\n",
       "      <td>1</td>\n",
       "      <td>0</td>\n",
       "      <td>1</td>\n",
       "      <td>1</td>\n",
       "      <td>0</td>\n",
       "    </tr>\n",
       "    <tr>\n",
       "      <th>1</th>\n",
       "      <td>1</td>\n",
       "      <td>0</td>\n",
       "      <td>0</td>\n",
       "      <td>0</td>\n",
       "      <td>1</td>\n",
       "    </tr>\n",
       "    <tr>\n",
       "      <th>2</th>\n",
       "      <td>0</td>\n",
       "      <td>1</td>\n",
       "      <td>0</td>\n",
       "      <td>1</td>\n",
       "      <td>0</td>\n",
       "    </tr>\n",
       "  </tbody>\n",
       "</table>\n",
       "</div>"
      ],
      "text/plain": [
       "   evil  horizon  of  problem  queen\n",
       "0     1        0   1        1      0\n",
       "1     1        0   0        0      1\n",
       "2     0        1   0        1      0"
      ]
     },
     "execution_count": 19,
     "metadata": {},
     "output_type": "execute_result"
    }
   ],
   "source": [
    "import pandas as pd\n",
    "pd.DataFrame(X.toarray(), columns=vec.get_feature_names())"
   ]
  },
  {
   "cell_type": "markdown",
   "metadata": {},
   "source": [
    "Sin embargo, hay algunos problemas con este enfoque: el recuento de palabras sin formato conduce a características que ponen demasiado peso en las palabras que aparecen con mucha frecuencia, y esto puede ser subóptimo en algunos algoritmos de clasificación. Un enfoque para solucionar esto se conoce como término frecuencia de documento inversa de frecuencia (TF – IDF) que pondera los recuentos de palabras en función de la frecuencia con la que aparecen en los documentos. La sintaxis para calcular estas características es similar al ejemplo anterior:"
   ]
  },
  {
   "cell_type": "code",
   "execution_count": 22,
   "metadata": {},
   "outputs": [
    {
     "data": {
      "text/html": [
       "<div>\n",
       "<style scoped>\n",
       "    .dataframe tbody tr th:only-of-type {\n",
       "        vertical-align: middle;\n",
       "    }\n",
       "\n",
       "    .dataframe tbody tr th {\n",
       "        vertical-align: top;\n",
       "    }\n",
       "\n",
       "    .dataframe thead th {\n",
       "        text-align: right;\n",
       "    }\n",
       "</style>\n",
       "<table border=\"1\" class=\"dataframe\">\n",
       "  <thead>\n",
       "    <tr style=\"text-align: right;\">\n",
       "      <th></th>\n",
       "      <th>evil</th>\n",
       "      <th>horizon</th>\n",
       "      <th>of</th>\n",
       "      <th>problem</th>\n",
       "      <th>queen</th>\n",
       "    </tr>\n",
       "  </thead>\n",
       "  <tbody>\n",
       "    <tr>\n",
       "      <th>0</th>\n",
       "      <td>0.517856</td>\n",
       "      <td>0.000000</td>\n",
       "      <td>0.680919</td>\n",
       "      <td>0.517856</td>\n",
       "      <td>0.000000</td>\n",
       "    </tr>\n",
       "    <tr>\n",
       "      <th>1</th>\n",
       "      <td>0.605349</td>\n",
       "      <td>0.000000</td>\n",
       "      <td>0.000000</td>\n",
       "      <td>0.000000</td>\n",
       "      <td>0.795961</td>\n",
       "    </tr>\n",
       "    <tr>\n",
       "      <th>2</th>\n",
       "      <td>0.000000</td>\n",
       "      <td>0.795961</td>\n",
       "      <td>0.000000</td>\n",
       "      <td>0.605349</td>\n",
       "      <td>0.000000</td>\n",
       "    </tr>\n",
       "  </tbody>\n",
       "</table>\n",
       "</div>"
      ],
      "text/plain": [
       "       evil   horizon        of   problem     queen\n",
       "0  0.517856  0.000000  0.680919  0.517856  0.000000\n",
       "1  0.605349  0.000000  0.000000  0.000000  0.795961\n",
       "2  0.000000  0.795961  0.000000  0.605349  0.000000"
      ]
     },
     "execution_count": 22,
     "metadata": {},
     "output_type": "execute_result"
    }
   ],
   "source": [
    "from sklearn.feature_extraction.text import TfidfVectorizer\n",
    "vec = TfidfVectorizer()\n",
    "X = vec.fit_transform(sample)\n",
    "pd.DataFrame(X.toarray(), columns=vec.get_feature_names())"
   ]
  },
  {
   "cell_type": "code",
   "execution_count": null,
   "metadata": {},
   "outputs": [],
   "source": []
  },
  {
   "cell_type": "code",
   "execution_count": 23,
   "metadata": {},
   "outputs": [],
   "source": [
    "from sklearn.feature_extraction.text import TfidfVectorizer\n",
    "from sklearn.naive_bayes import MultinomialNB\n",
    "from sklearn.pipeline import make_pipeline\n",
    "\n",
    "model = make_pipeline(TfidfVectorizer(), MultinomialNB())"
   ]
  },
  {
   "cell_type": "markdown",
   "metadata": {},
   "source": [
    "\n",
    "Con esta tubería, podemos aplicar el modelo a los datos de entrenamiento y predecir etiquetas para los datos de prueba:"
   ]
  },
  {
   "cell_type": "code",
   "execution_count": 24,
   "metadata": {},
   "outputs": [],
   "source": [
    "model.fit(train.data, train.target)\n",
    "labels = model.predict(test.data)"
   ]
  },
  {
   "cell_type": "markdown",
   "metadata": {},
   "source": [
    "Ahora que hemos predicho las etiquetas para los datos de prueba, podemos evaluarlos para conocer el rendimiento del estimador.\n",
    "Por ejemplo, aquí está la matriz de confusión entre las etiquetas verdaderas y predichas para los datos de prueba:"
   ]
  },
  {
   "cell_type": "code",
   "execution_count": 25,
   "metadata": {},
   "outputs": [
    {
     "data": {
      "image/png": "[encoded data removed]",
      "text/plain": [
       "<Figure size 432x288 with 1 Axes>"
      ]
     },
     "metadata": {},
     "output_type": "display_data"
    }
   ],
   "source": [
    "from sklearn.metrics import confusion_matrix\n",
    "mat = confusion_matrix(test.target, labels)\n",
    "sns.heatmap(mat.T, square=True, annot=True, fmt='d', cbar=False,\n",
    "            xticklabels=train.target_names, yticklabels=train.target_names)\n",
    "plt.xlabel('true label')\n",
    "plt.ylabel('predicted label');"
   ]
  },
  {
   "cell_type": "markdown",
   "metadata": {},
   "source": [
    "Evidentemente, incluso este clasificador muy simple puede separar con éxito la conversación espacial de la computadora, pero se confunde entre hablar sobre religión y hablar sobre el cristianismo.\n",
    "¡Esta es quizás un área esperada de confusión!\n",
    "\n",
    "Lo genial aquí es que ahora tenemos las herramientas para determinar la categoría para *cualquier* cadena, usando el método `` predic () `` de esta tubería.\n",
    "Aquí hay una función de utilidad rápida que devolverá la predicción para una sola cadena:"
   ]
  },
  {
   "cell_type": "code",
   "execution_count": 26,
   "metadata": {},
   "outputs": [],
   "source": [
    "def predict_category(s, train=train, model=model):\n",
    "    pred = model.predict([s])\n",
    "    return train.target_names[pred[0]]"
   ]
  },
  {
   "cell_type": "code",
   "execution_count": 27,
   "metadata": {},
   "outputs": [
    {
     "data": {
      "text/plain": [
       "'sci.space'"
      ]
     },
     "execution_count": 27,
     "metadata": {},
     "output_type": "execute_result"
    }
   ],
   "source": [
    "predict_category('sending a payload to the ISS')"
   ]
  },
  {
   "cell_type": "code",
   "execution_count": 28,
   "metadata": {},
   "outputs": [
    {
     "data": {
      "text/plain": [
       "'soc.religion.christian'"
      ]
     },
     "execution_count": 28,
     "metadata": {},
     "output_type": "execute_result"
    }
   ],
   "source": [
    "predict_category('discussing islam vs atheism')"
   ]
  },
  {
   "cell_type": "code",
   "execution_count": 29,
   "metadata": {},
   "outputs": [
    {
     "data": {
      "text/plain": [
       "'comp.graphics'"
      ]
     },
     "execution_count": 29,
     "metadata": {},
     "output_type": "execute_result"
    }
   ],
   "source": [
    "predict_category('determining the screen resolution')"
   ]
  },
  {
   "cell_type": "markdown",
   "metadata": {},
   "source": [
    "\n",
    "Recordemos que esto no es nada más sofisticado que un modelo de probabilidad simple para la frecuencia (ponderada) de cada palabra en la cadena; Sin embargo, el resultado es sorprendente.\n",
    "Incluso un algoritmo muy ingenuo, cuando se usa con cuidado y se entrena en un gran conjunto de datos de alta dimensión, puede ser sorprendentemente efectivo."
   ]
  },
  {
   "cell_type": "markdown",
   "metadata": {},
   "source": [
    "\n",
    "## Cuándo usar Bayes ingenuo\n",
    "\n",
    "Debido a que los ingenuos clasificadores bayesianos hacen suposiciones tan estrictas sobre los datos, generalmente no funcionarán tan bien como un modelo más complicado.\n",
    "Dicho esto, tienen varias ventajas:\n",
    "\n",
    "- Son extremadamente rápidos tanto para entrenamiento como para predicción\n",
    "- Proporcionan predicciones probabilísticas sencillas\n",
    "- A menudo son muy fáciles de interpretar.\n",
    "- Tienen muy pocos (si los hay) parámetros ajustables\n",
    "\n",
    "Estas ventajas significan que un ingenuo clasificador bayesiano suele ser una buena opción como clasificación inicial de referencia.\n",
    "Si funciona adecuadamente, felicidades: tiene un clasificador muy rápido e interpretable para su problema.\n",
    "Si no funciona bien, puede comenzar a explorar modelos más sofisticados, con un conocimiento básico de qué tan bien deberían funcionar.\n",
    "\n",
    "Los clasificadores ingenuos de Bayes tienden a funcionar especialmente bien en una de las siguientes situaciones:\n",
    "\n",
    "- Cuando las suposiciones ingenuas realmente coinciden con los datos (muy raro en la práctica)\n",
    "- Para categorías muy bien separadas, cuando la complejidad del modelo es menos importante\n",
    "- Para datos de muy alta dimensión, cuando la complejidad del modelo es menos importante\n",
    "\n",
    "Los últimos dos puntos parecen distintos, pero en realidad están relacionados: a medida que crece la dimensión de un conjunto de datos, es mucho menos probable que se encuentren dos puntos juntos (después de todo, deben estar cerca en *cada dimensión* para estar cerca en general).\n",
    "Esto significa que los grupos en dimensiones altas tienden a estar más separados, en promedio, que los grupos en dimensiones bajas, suponiendo que las nuevas dimensiones realmente agreguen información.\n",
    "Por esta razón, los clasificadores simplistas como los ingenuos Bayes tienden a funcionar tan bien o mejor que los clasificadores más complicados a medida que crece la dimensionalidad: una vez que tiene suficientes datos, incluso un modelo simple puede ser muy poderoso."
   ]
  },
  {
   "cell_type": "code",
   "execution_count": null,
   "metadata": {},
   "outputs": [],
   "source": []
  },
  {
   "cell_type": "code",
   "execution_count": null,
   "metadata": {},
   "outputs": [],
   "source": []
  },
  {
   "cell_type": "code",
   "execution_count": null,
   "metadata": {},
   "outputs": [],
   "source": []
  },
  {
   "cell_type": "code",
   "execution_count": null,
   "metadata": {},
   "outputs": [],
   "source": []
  },
  {
   "cell_type": "code",
   "execution_count": null,
   "metadata": {},
   "outputs": [],
   "source": []
  },
  {
   "cell_type": "code",
   "execution_count": null,
   "metadata": {},
   "outputs": [],
   "source": []
  },
  {
   "cell_type": "code",
   "execution_count": null,
   "metadata": {},
   "outputs": [],
   "source": []
  }
 ],
 "metadata": {
  "kernelspec": {
   "display_name": "Python 3",
   "language": "python",
   "name": "python3"
  },
  "language_info": {
   "codemirror_mode": {
    "name": "ipython",
    "version": 3
   },
   "file_extension": ".py",
   "mimetype": "text/x-python",
   "name": "python",
   "nbconvert_exporter": "python",
   "pygments_lexer": "ipython3",
   "version": "3.7.6"
  }
 },
 "nbformat": 4,
 "nbformat_minor": 4
}
